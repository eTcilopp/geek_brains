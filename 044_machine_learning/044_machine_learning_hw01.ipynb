{
  "nbformat": 4,
  "nbformat_minor": 0,
  "metadata": {
    "colab": {
      "provenance": [],
      "authorship_tag": "ABX9TyOlTsbZi8p/Q60ET3ZqRLsH",
      "include_colab_link": true
    },
    "kernelspec": {
      "name": "python3",
      "display_name": "Python 3"
    },
    "language_info": {
      "name": "python"
    }
  },
  "cells": [
    {
      "cell_type": "markdown",
      "metadata": {
        "id": "view-in-github",
        "colab_type": "text"
      },
      "source": [
        "<a href=\"https://colab.research.google.com/github/eTcilopp/geek_brains/blob/main/044_machine_learning/044_machine_learning_hw01.ipynb\" target=\"_parent\"><img src=\"https://colab.research.google.com/assets/colab-badge.svg\" alt=\"Open In Colab\"/></a>"
      ]
    },
    {
      "cell_type": "markdown",
      "source": [
        "# Курс: Машинное обучение. Семинар 01."
      ],
      "metadata": {
        "id": "FUKRgSX9pL-u"
      }
    },
    {
      "cell_type": "markdown",
      "source": [
        "Вам дан набор данных с фактическими значениями целевой переменной и предсказанными значениями:\n",
        "\n",
        "\n",
        "Фактические значения\n",
        "\n",
        "actual_values = np.array([100, 150, 200, 250])\n",
        "\n",
        "\n",
        "Предсказанные значения\n",
        "\n",
        "predicted_values = np.array([90, 140, 180, 270])\n",
        "\n",
        "Задача студентов состоит в расчете среднеквадратичной ошибки (MSE) и средней абсолютной ошибки (MAE) для данного набора данных без использования модели. Студенты должны использовать правильные значения фактической переменной и предсказанные значения для расчета функций потерь. Они также должны проанализировать результаты и объяснить, какие значения функции потерь указывают на лучшую точность предсказания."
      ],
      "metadata": {
        "id": "ZHn81JkapVR_"
      }
    },
    {
      "cell_type": "code",
      "source": [
        "import numpy as np\n",
        "from sklearn.metrics import mean_squared_error, mean_absolute_error"
      ],
      "metadata": {
        "id": "7zkbkv1ipTwI"
      },
      "execution_count": 1,
      "outputs": []
    },
    {
      "cell_type": "code",
      "source": [
        "actual_values = np.array([100, 150, 200, 250])\n",
        "predicted_values = np.array([90, 140, 180, 270])"
      ],
      "metadata": {
        "id": "Nu1XRd3ypr1b"
      },
      "execution_count": 2,
      "outputs": []
    },
    {
      "cell_type": "code",
      "source": [
        "mse_manual = sum((actual_values - predicted_values) ** 2) / len(actual_values)\n",
        "mae_manual = sum(abs(actual_values - predicted_values)) / len(actual_values)\n",
        "print(\n",
        "    f'MSE = {mse_manual}\\n'\n",
        "    f'MAE = {mae_manual}'\n",
        ")"
      ],
      "metadata": {
        "colab": {
          "base_uri": "https://localhost:8080/"
        },
        "id": "UGTqHRTKpvfz",
        "outputId": "13e198c6-ea2b-4c9d-e8bb-e38b41434d8f"
      },
      "execution_count": 6,
      "outputs": [
        {
          "output_type": "stream",
          "name": "stdout",
          "text": [
            "MSE = 250.0\n",
            "MAE = 15.0\n"
          ]
        }
      ]
    },
    {
      "cell_type": "code",
      "source": [
        "mse = mean_squared_error(actual_values, predicted_values)\n",
        "mae = mean_absolute_error(actual_values, predicted_values)\n",
        "print(\n",
        "    f'MSE = {mse}\\n'\n",
        "    f'MAE = {mae}'\n",
        ")"
      ],
      "metadata": {
        "colab": {
          "base_uri": "https://localhost:8080/"
        },
        "id": "KjOnmPWUqSnj",
        "outputId": "5385ca49-90ed-4a8d-d087-95e127c8ab22"
      },
      "execution_count": 5,
      "outputs": [
        {
          "output_type": "stream",
          "name": "stdout",
          "text": [
            "MSE = 250.0\n",
            "MAE = 15.0\n"
          ]
        }
      ]
    },
    {
      "cell_type": "markdown",
      "source": [
        "Как видим, результаты соовпадают со значениями, рассчитанными встроенными методами"
      ],
      "metadata": {
        "id": "BJe2BcFDqcGa"
      }
    },
    {
      "cell_type": "markdown",
      "source": [
        "Результаты трактовать невозможно, поскольку из не с чем сравнивать.<br>\n",
        "Допустим, коэффициенты модели поменяли и predicted values выглядит по-другому:<br>"
      ],
      "metadata": {
        "id": "0gA-Mh4wqyNF"
      }
    },
    {
      "cell_type": "code",
      "source": [
        "predicted_values_2 = np.array([93, 144, 185, 275])"
      ],
      "metadata": {
        "id": "k8unVgMBrtQy"
      },
      "execution_count": 7,
      "outputs": []
    },
    {
      "cell_type": "markdown",
      "source": [
        "Тогда результаты значения MSE:"
      ],
      "metadata": {
        "id": "sp-jgzszr2gI"
      }
    },
    {
      "cell_type": "code",
      "source": [
        "mse = mean_squared_error(actual_values, predicted_values_2)\n",
        "mae = mean_absolute_error(actual_values, predicted_values_2)\n",
        "print(\n",
        "    f'MSE_2 = {mse}\\n'\n",
        "    f'MAE_2 = {mae}'\n",
        ")"
      ],
      "metadata": {
        "colab": {
          "base_uri": "https://localhost:8080/"
        },
        "id": "WyXje2iDr0lS",
        "outputId": "5bbd8a8c-4cda-4ff4-cbaa-1c1f48700102"
      },
      "execution_count": 9,
      "outputs": [
        {
          "output_type": "stream",
          "name": "stdout",
          "text": [
            "MSE_2 = 233.75\n",
            "MAE_2 = 13.25\n"
          ]
        }
      ]
    },
    {
      "cell_type": "markdown",
      "source": [
        "Как видно из результатов, значение функции потерь уменьшилось, т.е.модель стала лучше"
      ],
      "metadata": {
        "id": "UViiHL8SsCaw"
      }
    }
  ]
}